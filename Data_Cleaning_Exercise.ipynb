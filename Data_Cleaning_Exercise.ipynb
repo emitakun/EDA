{
 "cells": [
  {
   "cell_type": "code",
   "execution_count": 3,
   "id": "713c458c-8b45-49c9-a9d4-e504c6e72ee1",
   "metadata": {},
   "outputs": [],
   "source": [
    "import pandas as pd\n",
    "import numpy as np\n",
    "import matplotlib.pyplot as plt\n",
    "import seaborn as sns"
   ]
  },
  {
   "cell_type": "code",
   "execution_count": 4,
   "id": "65a71b8a-45f7-4e6c-8655-a2659fb6af66",
   "metadata": {},
   "outputs": [],
   "source": [
    "df = pd.read_csv(\"loan_default.csv\")"
   ]
  },
  {
   "cell_type": "code",
   "execution_count": 5,
   "id": "0010d57f-602c-4f09-9bf5-9c18f7bdc676",
   "metadata": {},
   "outputs": [
    {
     "data": {
      "text/html": [
       "<div>\n",
       "<style scoped>\n",
       "    .dataframe tbody tr th:only-of-type {\n",
       "        vertical-align: middle;\n",
       "    }\n",
       "\n",
       "    .dataframe tbody tr th {\n",
       "        vertical-align: top;\n",
       "    }\n",
       "\n",
       "    .dataframe thead th {\n",
       "        text-align: right;\n",
       "    }\n",
       "</style>\n",
       "<table border=\"1\" class=\"dataframe\">\n",
       "  <thead>\n",
       "    <tr style=\"text-align: right;\">\n",
       "      <th></th>\n",
       "      <th>TARGET</th>\n",
       "      <th>NAME_CONTRACT_TYPE</th>\n",
       "      <th>CODE_GENDER</th>\n",
       "      <th>FLAG_OWN_CAR</th>\n",
       "      <th>FLAG_OWN_REALTY</th>\n",
       "      <th>CNT_CHILDREN</th>\n",
       "      <th>AMT_INCOME_TOTAL</th>\n",
       "      <th>AMT_CREDIT</th>\n",
       "      <th>AMT_ANNUITY</th>\n",
       "      <th>DAYS_BIRTH</th>\n",
       "      <th>YEARS_EMPLOYED</th>\n",
       "    </tr>\n",
       "  </thead>\n",
       "  <tbody>\n",
       "    <tr>\n",
       "      <th>0</th>\n",
       "      <td>0.0</td>\n",
       "      <td>Cash loans</td>\n",
       "      <td>M</td>\n",
       "      <td>Y</td>\n",
       "      <td>N</td>\n",
       "      <td>1</td>\n",
       "      <td>225000.0</td>\n",
       "      <td>578619.0</td>\n",
       "      <td>23229.0</td>\n",
       "      <td>-12347</td>\n",
       "      <td>0</td>\n",
       "    </tr>\n",
       "    <tr>\n",
       "      <th>1</th>\n",
       "      <td>0.0</td>\n",
       "      <td>Revolving loans</td>\n",
       "      <td>M</td>\n",
       "      <td>Y</td>\n",
       "      <td>Y</td>\n",
       "      <td>1</td>\n",
       "      <td>NaN</td>\n",
       "      <td>270000.0</td>\n",
       "      <td>13500.0</td>\n",
       "      <td>-14048</td>\n",
       "      <td>6</td>\n",
       "    </tr>\n",
       "    <tr>\n",
       "      <th>2</th>\n",
       "      <td>0.0</td>\n",
       "      <td>Cash loans</td>\n",
       "      <td>M</td>\n",
       "      <td>Y</td>\n",
       "      <td>N</td>\n",
       "      <td>0</td>\n",
       "      <td>144000.0</td>\n",
       "      <td>753840.0</td>\n",
       "      <td>29340.0</td>\n",
       "      <td>-14639</td>\n",
       "      <td>6</td>\n",
       "    </tr>\n",
       "    <tr>\n",
       "      <th>3</th>\n",
       "      <td>0.0</td>\n",
       "      <td>Cash loans</td>\n",
       "      <td>F</td>\n",
       "      <td>N</td>\n",
       "      <td>Y</td>\n",
       "      <td>0</td>\n",
       "      <td>81000.0</td>\n",
       "      <td>98910.0</td>\n",
       "      <td>7785.0</td>\n",
       "      <td>-14591</td>\n",
       "      <td>11</td>\n",
       "    </tr>\n",
       "    <tr>\n",
       "      <th>4</th>\n",
       "      <td>0.0</td>\n",
       "      <td>Cash loans</td>\n",
       "      <td>F</td>\n",
       "      <td>N</td>\n",
       "      <td>Y</td>\n",
       "      <td>1</td>\n",
       "      <td>103500.0</td>\n",
       "      <td>521280.0</td>\n",
       "      <td>26779.5</td>\n",
       "      <td>-12023</td>\n",
       "      <td>0</td>\n",
       "    </tr>\n",
       "  </tbody>\n",
       "</table>\n",
       "</div>"
      ],
      "text/plain": [
       "   TARGET NAME_CONTRACT_TYPE CODE_GENDER FLAG_OWN_CAR FLAG_OWN_REALTY  \\\n",
       "0     0.0         Cash loans           M            Y               N   \n",
       "1     0.0    Revolving loans           M            Y               Y   \n",
       "2     0.0         Cash loans           M            Y               N   \n",
       "3     0.0         Cash loans           F            N               Y   \n",
       "4     0.0         Cash loans           F            N               Y   \n",
       "\n",
       "   CNT_CHILDREN  AMT_INCOME_TOTAL  AMT_CREDIT  AMT_ANNUITY  DAYS_BIRTH  \\\n",
       "0             1          225000.0    578619.0      23229.0      -12347   \n",
       "1             1               NaN    270000.0      13500.0      -14048   \n",
       "2             0          144000.0    753840.0      29340.0      -14639   \n",
       "3             0           81000.0     98910.0       7785.0      -14591   \n",
       "4             1          103500.0    521280.0      26779.5      -12023   \n",
       "\n",
       "   YEARS_EMPLOYED  \n",
       "0               0  \n",
       "1               6  \n",
       "2               6  \n",
       "3              11  \n",
       "4               0  "
      ]
     },
     "execution_count": 5,
     "metadata": {},
     "output_type": "execute_result"
    }
   ],
   "source": [
    "df.head()"
   ]
  },
  {
   "cell_type": "code",
   "execution_count": 6,
   "id": "8c2643d3-5cc9-4d17-805c-372cd1281a50",
   "metadata": {},
   "outputs": [
    {
     "name": "stdout",
     "output_type": "stream",
     "text": [
      "\n",
      "Shape of the dataset:\n",
      "There are 10284 rows and 11 columns.\n"
     ]
    },
    {
     "data": {
      "text/plain": [
       "(10284, 11)"
      ]
     },
     "execution_count": 6,
     "metadata": {},
     "output_type": "execute_result"
    }
   ],
   "source": [
    "print(\"\\nShape of the dataset:\")\n",
    "print(f\"There are {df.shape[0]} rows and {df.shape[1]} columns.\")\n",
    "df.shape"
   ]
  },
  {
   "cell_type": "code",
   "execution_count": 7,
   "id": "b37162e4-e197-4fcb-92b9-721601bb37c9",
   "metadata": {},
   "outputs": [
    {
     "data": {
      "text/html": [
       "<div>\n",
       "<style scoped>\n",
       "    .dataframe tbody tr th:only-of-type {\n",
       "        vertical-align: middle;\n",
       "    }\n",
       "\n",
       "    .dataframe tbody tr th {\n",
       "        vertical-align: top;\n",
       "    }\n",
       "\n",
       "    .dataframe thead th {\n",
       "        text-align: right;\n",
       "    }\n",
       "</style>\n",
       "<table border=\"1\" class=\"dataframe\">\n",
       "  <thead>\n",
       "    <tr style=\"text-align: right;\">\n",
       "      <th></th>\n",
       "      <th>count</th>\n",
       "      <th>mean</th>\n",
       "      <th>std</th>\n",
       "      <th>min</th>\n",
       "      <th>25%</th>\n",
       "      <th>50%</th>\n",
       "      <th>75%</th>\n",
       "      <th>max</th>\n",
       "    </tr>\n",
       "  </thead>\n",
       "  <tbody>\n",
       "    <tr>\n",
       "      <th>TARGET</th>\n",
       "      <td>10281.0</td>\n",
       "      <td>0.079078</td>\n",
       "      <td>0.269873</td>\n",
       "      <td>0.0</td>\n",
       "      <td>0.000</td>\n",
       "      <td>0.0</td>\n",
       "      <td>0.0</td>\n",
       "      <td>1.0</td>\n",
       "    </tr>\n",
       "    <tr>\n",
       "      <th>CNT_CHILDREN</th>\n",
       "      <td>10284.0</td>\n",
       "      <td>10.287340</td>\n",
       "      <td>986.138233</td>\n",
       "      <td>0.0</td>\n",
       "      <td>0.000</td>\n",
       "      <td>0.0</td>\n",
       "      <td>1.0</td>\n",
       "      <td>99999.0</td>\n",
       "    </tr>\n",
       "    <tr>\n",
       "      <th>AMT_INCOME_TOTAL</th>\n",
       "      <td>6993.0</td>\n",
       "      <td>167909.947902</td>\n",
       "      <td>105245.713874</td>\n",
       "      <td>27000.0</td>\n",
       "      <td>112500.000</td>\n",
       "      <td>144000.0</td>\n",
       "      <td>202500.0</td>\n",
       "      <td>3825000.0</td>\n",
       "    </tr>\n",
       "    <tr>\n",
       "      <th>AMT_CREDIT</th>\n",
       "      <td>10284.0</td>\n",
       "      <td>599902.578326</td>\n",
       "      <td>400843.758473</td>\n",
       "      <td>45000.0</td>\n",
       "      <td>270000.000</td>\n",
       "      <td>512446.5</td>\n",
       "      <td>810000.0</td>\n",
       "      <td>4050000.0</td>\n",
       "    </tr>\n",
       "    <tr>\n",
       "      <th>AMT_ANNUITY</th>\n",
       "      <td>10284.0</td>\n",
       "      <td>27191.230747</td>\n",
       "      <td>14933.326225</td>\n",
       "      <td>2974.5</td>\n",
       "      <td>16509.375</td>\n",
       "      <td>25128.0</td>\n",
       "      <td>34596.0</td>\n",
       "      <td>258025.5</td>\n",
       "    </tr>\n",
       "    <tr>\n",
       "      <th>DAYS_BIRTH</th>\n",
       "      <td>10284.0</td>\n",
       "      <td>-16055.232400</td>\n",
       "      <td>4377.738214</td>\n",
       "      <td>-25166.0</td>\n",
       "      <td>-19724.250</td>\n",
       "      <td>-15733.5</td>\n",
       "      <td>-12352.0</td>\n",
       "      <td>-7680.0</td>\n",
       "    </tr>\n",
       "    <tr>\n",
       "      <th>YEARS_EMPLOYED</th>\n",
       "      <td>10284.0</td>\n",
       "      <td>-176.848016</td>\n",
       "      <td>388.125395</td>\n",
       "      <td>-1000.0</td>\n",
       "      <td>0.000</td>\n",
       "      <td>3.0</td>\n",
       "      <td>7.0</td>\n",
       "      <td>150.0</td>\n",
       "    </tr>\n",
       "  </tbody>\n",
       "</table>\n",
       "</div>"
      ],
      "text/plain": [
       "                    count           mean            std      min         25%  \\\n",
       "TARGET            10281.0       0.079078       0.269873      0.0       0.000   \n",
       "CNT_CHILDREN      10284.0      10.287340     986.138233      0.0       0.000   \n",
       "AMT_INCOME_TOTAL   6993.0  167909.947902  105245.713874  27000.0  112500.000   \n",
       "AMT_CREDIT        10284.0  599902.578326  400843.758473  45000.0  270000.000   \n",
       "AMT_ANNUITY       10284.0   27191.230747   14933.326225   2974.5   16509.375   \n",
       "DAYS_BIRTH        10284.0  -16055.232400    4377.738214 -25166.0  -19724.250   \n",
       "YEARS_EMPLOYED    10284.0    -176.848016     388.125395  -1000.0       0.000   \n",
       "\n",
       "                       50%       75%        max  \n",
       "TARGET                 0.0       0.0        1.0  \n",
       "CNT_CHILDREN           0.0       1.0    99999.0  \n",
       "AMT_INCOME_TOTAL  144000.0  202500.0  3825000.0  \n",
       "AMT_CREDIT        512446.5  810000.0  4050000.0  \n",
       "AMT_ANNUITY        25128.0   34596.0   258025.5  \n",
       "DAYS_BIRTH        -15733.5  -12352.0    -7680.0  \n",
       "YEARS_EMPLOYED         3.0       7.0      150.0  "
      ]
     },
     "execution_count": 7,
     "metadata": {},
     "output_type": "execute_result"
    }
   ],
   "source": [
    "#summary_statistics\n",
    "df.describe().T"
   ]
  },
  {
   "cell_type": "code",
   "execution_count": 8,
   "id": "2c98aab9-ecc6-4285-bb7b-62fa503e26e3",
   "metadata": {},
   "outputs": [
    {
     "name": "stdout",
     "output_type": "stream",
     "text": [
      "\n",
      "Missing Values in Each Column:\n",
      "TARGET                   3\n",
      "NAME_CONTRACT_TYPE       0\n",
      "CODE_GENDER              0\n",
      "FLAG_OWN_CAR          2262\n",
      "FLAG_OWN_REALTY         30\n",
      "CNT_CHILDREN             0\n",
      "AMT_INCOME_TOTAL      3291\n",
      "AMT_CREDIT               0\n",
      "AMT_ANNUITY              0\n",
      "DAYS_BIRTH               0\n",
      "YEARS_EMPLOYED           0\n",
      "dtype: int64\n"
     ]
    }
   ],
   "source": [
    "print(\"\\nMissing Values in Each Column:\")\n",
    "print(df.isnull().sum())"
   ]
  },
  {
   "cell_type": "code",
   "execution_count": 10,
   "id": "139315b9-12bc-4166-9920-953f9e3eeb6f",
   "metadata": {},
   "outputs": [
    {
     "name": "stdout",
     "output_type": "stream",
     "text": [
      "\n",
      "Unique Values in Each Column:\n",
      "TARGET                   2\n",
      "NAME_CONTRACT_TYPE       2\n",
      "CODE_GENDER              2\n",
      "FLAG_OWN_CAR             2\n",
      "FLAG_OWN_REALTY          4\n",
      "CNT_CHILDREN            13\n",
      "AMT_INCOME_TOTAL       260\n",
      "AMT_CREDIT            1860\n",
      "AMT_ANNUITY           4279\n",
      "DAYS_BIRTH            7604\n",
      "YEARS_EMPLOYED          46\n",
      "dtype: int64\n"
     ]
    }
   ],
   "source": [
    "print(\"\\nUnique Values in Each Column:\")\n",
    "print(df.nunique())"
   ]
  },
  {
   "cell_type": "code",
   "execution_count": 12,
   "id": "2b903ffe-5f4a-43f9-bbad-1025c8153b66",
   "metadata": {},
   "outputs": [
    {
     "data": {
      "text/plain": [
       "array(['N', 'Y', nan, 'YES', 'NO'], dtype=object)"
      ]
     },
     "execution_count": 12,
     "metadata": {},
     "output_type": "execute_result"
    }
   ],
   "source": [
    "df.FLAG_OWN_REALTY.unique()"
   ]
  },
  {
   "cell_type": "code",
   "execution_count": 14,
   "id": "a264d2c2-edbc-454d-960a-8ca77dc5b0d2",
   "metadata": {},
   "outputs": [],
   "source": [
    "df['FLAG_OWN_REALTY'] = df['FLAG_OWN_REALTY'].replace({'YES': 'Y', 'NO': 'N'})"
   ]
  },
  {
   "cell_type": "code",
   "execution_count": 16,
   "id": "9be57bcc-b0ba-4a60-a748-8bef7a963e95",
   "metadata": {},
   "outputs": [
    {
     "data": {
      "text/plain": [
       "array(['N', 'Y', nan], dtype=object)"
      ]
     },
     "execution_count": 16,
     "metadata": {},
     "output_type": "execute_result"
    }
   ],
   "source": [
    "df.FLAG_OWN_REALTY.unique()"
   ]
  },
  {
   "cell_type": "code",
   "execution_count": 22,
   "id": "2cc44720-c996-4a73-b3d7-d2d6d41bcaed",
   "metadata": {},
   "outputs": [
    {
     "name": "stdout",
     "output_type": "stream",
     "text": [
      "TARGET                 0\n",
      "NAME_CONTRACT_TYPE     0\n",
      "CODE_GENDER            0\n",
      "FLAG_OWN_CAR           0\n",
      "FLAG_OWN_REALTY       30\n",
      "CNT_CHILDREN           0\n",
      "AMT_INCOME_TOTAL       0\n",
      "AMT_CREDIT             0\n",
      "AMT_ANNUITY            0\n",
      "DAYS_BIRTH             0\n",
      "YEARS_EMPLOYED         0\n",
      "dtype: int64\n"
     ]
    }
   ],
   "source": [
    "#handling missing values\n",
    "#drop rows where target is null\n",
    "df.dropna(subset = ['TARGET'], inplace = True)\n",
    "#input missing values in 'Flag_Own_Car' with mode\n",
    "car_mode = df['FLAG_OWN_CAR'].mode()[0]\n",
    "df['FLAG_OWN_CAR'] = df['FLAG_OWN_CAR'].fillna(car_mode)\n",
    "# Impute missing values in 'AMT_INCOME_TOTAL' with the median\n",
    "income_median = df['AMT_INCOME_TOTAL'].median()\n",
    "df['AMT_INCOME_TOTAL'] = df['AMT_INCOME_TOTAL'].fillna(income_median)\n",
    "#Checking.....\n",
    "print(df.isnull().sum())"
   ]
  },
  {
   "cell_type": "code",
   "execution_count": 28,
   "id": "cf6f8aff-f70a-4a6e-b758-30a1bda5819b",
   "metadata": {},
   "outputs": [
    {
     "data": {
      "text/plain": [
       "array(['N', 'Y', nan], dtype=object)"
      ]
     },
     "execution_count": 28,
     "metadata": {},
     "output_type": "execute_result"
    }
   ],
   "source": [
    "df['FLAG_OWN_REALTY'].nunique()\n",
    "df['FLAG_OWN_REALTY'].head()\n",
    "df['FLAG_OWN_REALTY'].unique()"
   ]
  },
  {
   "cell_type": "code",
   "execution_count": 36,
   "id": "9bb8813d-b583-46c3-a4d0-bef611ac1713",
   "metadata": {},
   "outputs": [],
   "source": [
    "#Replace NAN with mode\n",
    "own_reality_mode = df['FLAG_OWN_REALTY'].mode()[0]\n",
    "df['FLAG_OWN_REALTY'] = df['FLAG_OWN_REALTY'].fillna(own_reality_mode)"
   ]
  },
  {
   "cell_type": "code",
   "execution_count": 42,
   "id": "f8a74e4b-0581-46a7-9b34-f6a75b1bb31f",
   "metadata": {},
   "outputs": [
    {
     "data": {
      "text/html": [
       "<div>\n",
       "<style scoped>\n",
       "    .dataframe tbody tr th:only-of-type {\n",
       "        vertical-align: middle;\n",
       "    }\n",
       "\n",
       "    .dataframe tbody tr th {\n",
       "        vertical-align: top;\n",
       "    }\n",
       "\n",
       "    .dataframe thead th {\n",
       "        text-align: right;\n",
       "    }\n",
       "</style>\n",
       "<table border=\"1\" class=\"dataframe\">\n",
       "  <thead>\n",
       "    <tr style=\"text-align: right;\">\n",
       "      <th></th>\n",
       "      <th>TARGET</th>\n",
       "      <th>NAME_CONTRACT_TYPE</th>\n",
       "      <th>CODE_GENDER</th>\n",
       "      <th>FLAG_OWN_CAR</th>\n",
       "      <th>FLAG_OWN_REALTY</th>\n",
       "      <th>CNT_CHILDREN</th>\n",
       "      <th>AMT_INCOME_TOTAL</th>\n",
       "      <th>AMT_CREDIT</th>\n",
       "      <th>AMT_ANNUITY</th>\n",
       "      <th>DAYS_BIRTH</th>\n",
       "      <th>YEARS_EMPLOYED</th>\n",
       "    </tr>\n",
       "  </thead>\n",
       "  <tbody>\n",
       "    <tr>\n",
       "      <th>0</th>\n",
       "      <td>0.0</td>\n",
       "      <td>Cash loans</td>\n",
       "      <td>M</td>\n",
       "      <td>Y</td>\n",
       "      <td>N</td>\n",
       "      <td>1</td>\n",
       "      <td>225000.0</td>\n",
       "      <td>578619.0</td>\n",
       "      <td>23229.0</td>\n",
       "      <td>-12347</td>\n",
       "      <td>0</td>\n",
       "    </tr>\n",
       "    <tr>\n",
       "      <th>1</th>\n",
       "      <td>0.0</td>\n",
       "      <td>Revolving loans</td>\n",
       "      <td>M</td>\n",
       "      <td>Y</td>\n",
       "      <td>Y</td>\n",
       "      <td>1</td>\n",
       "      <td>144000.0</td>\n",
       "      <td>270000.0</td>\n",
       "      <td>13500.0</td>\n",
       "      <td>-14048</td>\n",
       "      <td>6</td>\n",
       "    </tr>\n",
       "    <tr>\n",
       "      <th>2</th>\n",
       "      <td>0.0</td>\n",
       "      <td>Cash loans</td>\n",
       "      <td>M</td>\n",
       "      <td>Y</td>\n",
       "      <td>N</td>\n",
       "      <td>0</td>\n",
       "      <td>144000.0</td>\n",
       "      <td>753840.0</td>\n",
       "      <td>29340.0</td>\n",
       "      <td>-14639</td>\n",
       "      <td>6</td>\n",
       "    </tr>\n",
       "    <tr>\n",
       "      <th>3</th>\n",
       "      <td>0.0</td>\n",
       "      <td>Cash loans</td>\n",
       "      <td>F</td>\n",
       "      <td>N</td>\n",
       "      <td>Y</td>\n",
       "      <td>0</td>\n",
       "      <td>81000.0</td>\n",
       "      <td>98910.0</td>\n",
       "      <td>7785.0</td>\n",
       "      <td>-14591</td>\n",
       "      <td>11</td>\n",
       "    </tr>\n",
       "    <tr>\n",
       "      <th>4</th>\n",
       "      <td>0.0</td>\n",
       "      <td>Cash loans</td>\n",
       "      <td>F</td>\n",
       "      <td>N</td>\n",
       "      <td>Y</td>\n",
       "      <td>1</td>\n",
       "      <td>103500.0</td>\n",
       "      <td>521280.0</td>\n",
       "      <td>26779.5</td>\n",
       "      <td>-12023</td>\n",
       "      <td>0</td>\n",
       "    </tr>\n",
       "  </tbody>\n",
       "</table>\n",
       "</div>"
      ],
      "text/plain": [
       "   TARGET NAME_CONTRACT_TYPE CODE_GENDER FLAG_OWN_CAR FLAG_OWN_REALTY  \\\n",
       "0     0.0         Cash loans           M            Y               N   \n",
       "1     0.0    Revolving loans           M            Y               Y   \n",
       "2     0.0         Cash loans           M            Y               N   \n",
       "3     0.0         Cash loans           F            N               Y   \n",
       "4     0.0         Cash loans           F            N               Y   \n",
       "\n",
       "   CNT_CHILDREN  AMT_INCOME_TOTAL  AMT_CREDIT  AMT_ANNUITY  DAYS_BIRTH  \\\n",
       "0             1          225000.0    578619.0      23229.0      -12347   \n",
       "1             1          144000.0    270000.0      13500.0      -14048   \n",
       "2             0          144000.0    753840.0      29340.0      -14639   \n",
       "3             0           81000.0     98910.0       7785.0      -14591   \n",
       "4             1          103500.0    521280.0      26779.5      -12023   \n",
       "\n",
       "   YEARS_EMPLOYED  \n",
       "0               0  \n",
       "1               6  \n",
       "2               6  \n",
       "3              11  \n",
       "4               0  "
      ]
     },
     "execution_count": 42,
     "metadata": {},
     "output_type": "execute_result"
    }
   ],
   "source": [
    "df.head()"
   ]
  },
  {
   "cell_type": "code",
   "execution_count": 46,
   "id": "b517b907-a4a6-4594-ae97-78afea816c3a",
   "metadata": {},
   "outputs": [
    {
     "data": {
      "text/plain": [
       "TARGET                0\n",
       "NAME_CONTRACT_TYPE    0\n",
       "CODE_GENDER           0\n",
       "FLAG_OWN_CAR          0\n",
       "FLAG_OWN_REALTY       0\n",
       "CNT_CHILDREN          0\n",
       "AMT_INCOME_TOTAL      0\n",
       "AMT_CREDIT            0\n",
       "AMT_ANNUITY           0\n",
       "DAYS_BIRTH            0\n",
       "YEARS_EMPLOYED        0\n",
       "dtype: int64"
      ]
     },
     "execution_count": 46,
     "metadata": {},
     "output_type": "execute_result"
    }
   ],
   "source": [
    "df.isnull().sum()"
   ]
  },
  {
   "cell_type": "code",
   "execution_count": null,
   "id": "ed19ca73-87cb-4c3e-958b-fd5de69cc1f4",
   "metadata": {},
   "outputs": [],
   "source": []
  }
 ],
 "metadata": {
  "kernelspec": {
   "display_name": "Python [conda env:base] *",
   "language": "python",
   "name": "conda-base-py"
  },
  "language_info": {
   "codemirror_mode": {
    "name": "ipython",
    "version": 3
   },
   "file_extension": ".py",
   "mimetype": "text/x-python",
   "name": "python",
   "nbconvert_exporter": "python",
   "pygments_lexer": "ipython3",
   "version": "3.12.7"
  }
 },
 "nbformat": 4,
 "nbformat_minor": 5
}
